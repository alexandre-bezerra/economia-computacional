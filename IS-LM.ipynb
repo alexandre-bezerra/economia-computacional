{
 "cells": [
  {
   "cell_type": "code",
   "execution_count": 8,
   "metadata": {},
   "outputs": [],
   "source": [
    "##Bibliotecas\n",
    "import numpy as np\n",
    "from sympy import *\n",
    "import matplotlib.pyplot as plt\n",
    "\n",
    "#Importações do JupyterLite\n",
    "try:\n",
    "    import piplite\n",
    "    await piplite.install(['ipywidgets'])\n",
    "except ImportError:\n",
    "    pass\n",
    "import ipywidgets as widgets\n",
    "from IPython.display import display"
   ]
  },
  {
   "cell_type": "code",
   "execution_count": 2,
   "metadata": {},
   "outputs": [],
   "source": [
    "#Variáveis endógenas e exógenas, e parâmetros estruturais\n",
    "y, i, G, T, c_0, c_1, A, i_r, m, m_1, m_2, M, P, exp_inflacao = symbols(\"y i G T c_0 c_1 A i_r m m_1 m_2 M P exp_inflacao\")"
   ]
  },
  {
   "cell_type": "code",
   "execution_count": null,
   "metadata": {},
   "outputs": [],
   "source": []
  },
  {
   "cell_type": "code",
   "execution_count": 3,
   "metadata": {},
   "outputs": [],
   "source": [
    "#Curva IS\n",
    "i_is = (A + G - T*c_1 + c_0 + c_1*y + exp_inflacao*i_r - y)/i_r\n",
    "\n",
    "#Curva LM\n",
    "\n",
    "i_lm = (-M + P*(m + m_1*y))/(P*m_2)"
   ]
  },
  {
   "cell_type": "code",
   "execution_count": 6,
   "metadata": {},
   "outputs": [],
   "source": [
    "w = widgets.IntSlider()"
   ]
  },
  {
   "cell_type": "code",
   "execution_count": 43,
   "metadata": {},
   "outputs": [
    {
     "data": {
      "application/vnd.jupyter.widget-view+json": {
       "model_id": "9fea1324ed8c47afa08067a35b5d6be6",
       "version_major": 2,
       "version_minor": 0
      },
      "text/plain": [
       "interactive(children=(IntSlider(value=50, description='G', min=1), IntSlider(value=50, description='T', min=1)…"
      ]
     },
     "metadata": {},
     "output_type": "display_data"
    }
   ],
   "source": [
    "def modelo_islm(G, T, c_0, c_1, A, i_r, m, m_1, m_2, M, P, exp_inflacao):\n",
    "    y_eq = (A*P*m_2 + G*P*m_2 + M*i_r - P*T*c_1*m_2 + P*c_0*m_2 + P*exp_inflacao*i_r*m_2 - P*i_r*m)/(P*(-c_1*m_2 + i_r*m_1 + m_2))\n",
    "    j_eq = (A*P*m_1 + G*P*m_1 + M*c_1 - M - P*T*c_1*m_1 + P*c_0*m_1 - P*c_1*m + P*exp_inflacao*i_r*m_1 + P*m)/(P*(-c_1*m_2 + i_r*m_1 + m_2))\n",
    "    plt.figure()\n",
    "    pib = np.arange(0,300,0.0001)\n",
    "    l_is = (A + G - T*c_1 + c_0 + c_1*y + exp_inflacao*i_r - y)/i_r\n",
    "    l_lm = ((1/m_2)*(m+m_1*pib-(M/P)))\n",
    "    is = [is.subs({'y':k}) for k in pib]\n",
    "    plt.ylim([0,int(1.5*j_eq)])\n",
    "    plt.xlim([0,int(2*y_eq)])\n",
    "    plt.show()\n",
    "    print(j_eq)\n",
    "c_0, c_1, A, i_r, m, m_1, m_2 = [15,0.8,15,0.5,6,0.03,0.5]\n",
    "interactive_plot = widgets.interactive(modelo_islm, G=(1,100,1), T=(1,100,1), c_0=c_0, c_1=c_1, A=A, i_r=i_r, m=m, m_1=m_1, m_2=m_2, M=(1,100,1), P=(1,50,1), exp_inflacao=(0,30,1))\n",
    "output = interactive_plot.children[-1]\n",
    "#output.layout.height = '350px'\n",
    "interactive_plot"
   ]
  },
  {
   "cell_type": "code",
   "execution_count": 40,
   "metadata": {},
   "outputs": [
    {
     "data": {
      "text/plain": [
       "array([0.00000e+00, 1.00000e-03, 2.00000e-03, ..., 2.99997e+02,\n",
       "       2.99998e+02, 2.99999e+02])"
      ]
     },
     "execution_count": 40,
     "metadata": {},
     "output_type": "execute_result"
    }
   ],
   "source": [
    "np.arange(0,300,0.001)"
   ]
  }
 ],
 "metadata": {
  "kernelspec": {
   "display_name": "base",
   "language": "python",
   "name": "python3"
  },
  "language_info": {
   "codemirror_mode": {
    "name": "ipython",
    "version": 3
   },
   "file_extension": ".py",
   "mimetype": "text/x-python",
   "name": "python",
   "nbconvert_exporter": "python",
   "pygments_lexer": "ipython3",
   "version": "3.9.13"
  },
  "orig_nbformat": 4,
  "vscode": {
   "interpreter": {
    "hash": "ad2bdc8ecc057115af97d19610ffacc2b4e99fae6737bb82f5d7fb13d2f2c186"
   }
  }
 },
 "nbformat": 4,
 "nbformat_minor": 2
}
